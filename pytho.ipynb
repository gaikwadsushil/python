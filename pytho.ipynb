{
 "cells": [
  {
   "cell_type": "code",
   "execution_count": null,
   "metadata": {},
   "outputs": [
    {
     "name": "stdout",
     "output_type": "stream",
     "text": [
      "hello\n"
     ]
    }
   ],
   "source": [
    "print('hello')\n"
   ]
  },
  {
   "cell_type": "code",
   "execution_count": 8,
   "metadata": {},
   "outputs": [],
   "source": [
    "a = int(input('enter number for a'))\n",
    "b = int(input('enter number for b'))\n",
    "print(f\"a+b={a+b}\")\n",
    "print(f\"a-b={a-b}\")\n",
    "print(f\"a/b={a/b:.4f}\")\n",
    "print(f\"a//b={a//b}\")\n",
    "print(f\"a*b={a*b}\")\n",
    "print(f\"a**b={a**b}\")\n",
    "print(f\"a%b={a%b}\")"
   ]
  },
  {
   "cell_type": "code",
   "execution_count": null,
   "metadata": {},
   "outputs": [
    {
     "name": "stdout",
     "output_type": "stream",
     "text": [
      "a is less then b\n",
      "end\n"
     ]
    }
   ],
   "source": [
    "if a<b:\n",
    "  print('a is less then b')\n",
    "  print('end')  "
   ]
  },
  {
   "cell_type": "code",
   "execution_count": null,
   "metadata": {},
   "outputs": [
    {
     "name": "stdout",
     "output_type": "stream",
     "text": [
      "a is less then b\n"
     ]
    }
   ],
   "source": [
    "if a<b:\n",
    "    print('a is less then b')\n",
    "else:\n",
    "  print('a is greater then b')"
   ]
  },
  {
   "cell_type": "code",
   "execution_count": null,
   "metadata": {},
   "outputs": [
    {
     "name": "stdout",
     "output_type": "stream",
     "text": [
      "a is less then b\n"
     ]
    }
   ],
   "source": [
    "if a<b:\n",
    "    print('a is less then b')\n",
    "elif a==b:\n",
    "    print('a is equal to b')\n",
    "else:\n",
    "    print('a is greater then b')"
   ]
  },
  {
   "cell_type": "code",
   "execution_count": null,
   "metadata": {},
   "outputs": [
    {
     "name": "stdout",
     "output_type": "stream",
     "text": [
      "odd result is 1\n"
     ]
    }
   ],
   "source": [
    "if 12%2:\n",
    "    print('even result is 0')\n",
    "if 13%2:\n",
    "    print('odd result is 1')    "
   ]
  },
  {
   "cell_type": "code",
   "execution_count": null,
   "metadata": {},
   "outputs": [
    {
     "name": "stdout",
     "output_type": "stream",
     "text": [
      "this is an even number\n"
     ]
    }
   ],
   "source": [
    "num=int(input('enter number ='))\n",
    "if num==0:\n",
    "    print('this is a zero number')\n",
    "elif num%2==0:\n",
    "    print('this is an even number')\n",
    "elif num%2==1:\n",
    "    print('this is an odd number')\n",
    "else:\n",
    "    print('invalid input')"
   ]
  },
  {
   "cell_type": "code",
   "execution_count": null,
   "metadata": {},
   "outputs": [
    {
     "name": "stdout",
     "output_type": "stream",
     "text": [
      "world\n",
      "end\n"
     ]
    }
   ],
   "source": [
    "if '' or {} or [] or () or None:\n",
    "    print('hello')\n",
    "else:\n",
    "    print('world')\n",
    "print('end')    "
   ]
  },
  {
   "cell_type": "code",
   "execution_count": null,
   "metadata": {},
   "outputs": [
    {
     "name": "stdout",
     "output_type": "stream",
     "text": [
      "no\n"
     ]
    }
   ],
   "source": [
    "year = int(input('enter the year'))\n",
    "if year % 400 == 0:\n",
    "    print('yes')\n",
    "elif year%4 == 0 and year%100 !=0:\n",
    "     print('no')"
   ]
  },
  {
   "cell_type": "code",
   "execution_count": null,
   "metadata": {},
   "outputs": [],
   "source": []
  },
  {
   "cell_type": "code",
   "execution_count": null,
   "metadata": {},
   "outputs": [
    {
     "name": "stdout",
     "output_type": "stream",
     "text": [
      "not leap year\n"
     ]
    }
   ],
   "source": [
    "year = int(input('enter the year'))\n",
    "if year % 400 ==0:\n",
    "    print('leap year')\n",
    "else: \n",
    "    if year % 100 != 0:\n",
    "        print('not leap year')\n",
    "  \n",
    " "
   ]
  },
  {
   "cell_type": "code",
   "execution_count": null,
   "metadata": {},
   "outputs": [
    {
     "name": "stdout",
     "output_type": "stream",
     "text": [
      "leap year\n"
     ]
    }
   ],
   "source": [
    "year = int(input('enter the year'))\n",
    "if year % 4 == 0 or year % 400 == 0 and year % 100 == 0:\n",
    "    print('leap year')\n",
    "else:\n",
    " print('not a leap year')"
   ]
  },
  {
   "cell_type": "code",
   "execution_count": null,
   "metadata": {},
   "outputs": [
    {
     "name": "stdout",
     "output_type": "stream",
     "text": [
      "is a leap year\n"
     ]
    }
   ],
   "source": [
    "year = int(input('enter the year'))\n",
    "if year %400==0:\n",
    "    print('this is leep year')\n",
    "else :\n",
    "    if year%4==0:\n",
    "      if year %100 !=0:\n",
    "        print('is a leap year')\n",
    "      else :\n",
    "        print('not a leap year')\n",
    "    else:\n",
    "        print('this is a not a leap year')    \n",
    "        \n",
    "\n",
    "\n"
   ]
  },
  {
   "cell_type": "code",
   "execution_count": null,
   "metadata": {},
   "outputs": [],
   "source": [
    "cls =int(input())\n",
    "if cls == 1:\n",
    "    ticket_cost=100\n",
    "else:\n",
    "    ticket_cost=10    "
   ]
  },
  {
   "cell_type": "code",
   "execution_count": null,
   "metadata": {},
   "outputs": [],
   "source": [
    "cls = int(input())\n",
    "ticket_cost = 100 if cls==1 else 10"
   ]
  },
  {
   "cell_type": "code",
   "execution_count": null,
   "metadata": {},
   "outputs": [
    {
     "name": "stdout",
     "output_type": "stream",
     "text": [
      "10\n",
      "9\n",
      "8\n",
      "7\n",
      "6\n",
      "5\n",
      "4\n",
      "3\n",
      "2\n",
      "1\n"
     ]
    }
   ],
   "source": [
    "num=10\n",
    "while num>0:\n",
    "    print(num)\n",
    "    num-=1"
   ]
  },
  {
   "cell_type": "markdown",
   "metadata": {},
   "source": [
    "<h2> loop (iterative statements) </h2>\n",
    "\n",
    "1.posible iteration count of any loop can be \n",
    " 0\n",
    " n\n",
    " infinity\n",
    "\n",
    "2. python have two loop: whilw and for\n",
    "\n",
    "\n",
    "3. we can control whilw loop , whilw we cant control for loop"
   ]
  },
  {
   "cell_type": "code",
   "execution_count": null,
   "metadata": {},
   "outputs": [
    {
     "name": "stdout",
     "output_type": "stream",
     "text": [
      "1\n",
      "2\n",
      "3\n",
      "4\n",
      "5\n",
      "6\n",
      "7\n",
      "8\n",
      "9\n",
      "10\n"
     ]
    }
   ],
   "source": [
    "for i in range(1,11):\n",
    "    print(i)"
   ]
  },
  {
   "cell_type": "markdown",
   "metadata": {},
   "source": [
    "<h3>range</h3>\n",
    "\n",
    "<pre>\n",
    "( \n",
    "    start,\n",
    "    stop, #excluded\n",
    "    step. #distance\n",
    ")\n",
    "( \n",
    "    start, # assignment\n",
    "    stop, #condition\n",
    "    step. #state change \n",
    ")\n",
    "</pre>\n"
   ]
  },
  {
   "cell_type": "code",
   "execution_count": null,
   "metadata": {},
   "outputs": [
    {
     "name": "stdout",
     "output_type": "stream",
     "text": [
      "<class 'range'>\n"
     ]
    }
   ],
   "source": [
    "print(range)"
   ]
  },
  {
   "cell_type": "code",
   "execution_count": 1,
   "metadata": {},
   "outputs": [
    {
     "name": "stdout",
     "output_type": "stream",
     "text": [
      "1\n",
      "3\n",
      "5\n",
      "7\n",
      "9\n"
     ]
    }
   ],
   "source": [
    "for i in range(1,11,2):\n",
    "    print(i)"
   ]
  },
  {
   "cell_type": "code",
   "execution_count": 4,
   "metadata": {},
   "outputs": [
    {
     "name": "stdout",
     "output_type": "stream",
     "text": [
      "2\n",
      "4\n",
      "6\n",
      "8\n",
      "10\n"
     ]
    }
   ],
   "source": [
    "for i in range(2,11,2):\n",
    "    print(i)"
   ]
  },
  {
   "cell_type": "code",
   "execution_count": 5,
   "metadata": {},
   "outputs": [
    {
     "name": "stdout",
     "output_type": "stream",
     "text": [
      "2\n",
      "4\n",
      "6\n",
      "8\n",
      "10\n"
     ]
    }
   ],
   "source": [
    "num=2\n",
    "while num<11:\n",
    "    print(num)\n",
    "    num+=2"
   ]
  },
  {
   "cell_type": "code",
   "execution_count": null,
   "metadata": {},
   "outputs": [
    {
     "name": "stdout",
     "output_type": "stream",
     "text": [
      "\n",
      "hi\n",
      "hello\n",
      "world\n",
      "i am sushil\n",
      "exit\n"
     ]
    }
   ],
   "source": [
    "msg =('inpu')''\n",
    "while msg!='exit':\n",
    "    msg=input('enter your message:')\n",
    "    msg+= next\n",
    "    print(msg)"
   ]
  },
  {
   "cell_type": "markdown",
   "metadata": {},
   "source": [
    "<h1>indexing</h1>\n",
    "\n",
    "<p>H E L L O  W O R L D</p>\n",
    "<P>0 1 2 3 4 5 6 7 8 9 10                 INDEX STARTS WITH 0              </P>\n",
    "<P>1 2 3 4 5 6 7 8 9 10 11                LENTH STARTS WITH 1              </P>           "
   ]
  },
  {
   "cell_type": "code",
   "execution_count": 2,
   "metadata": {},
   "outputs": [
    {
     "name": "stdout",
     "output_type": "stream",
     "text": [
      "11\n"
     ]
    },
    {
     "data": {
      "text/plain": [
       "10"
      ]
     },
     "execution_count": 2,
     "metadata": {},
     "output_type": "execute_result"
    }
   ],
   "source": [
    "print(len('HELLO WORLD'))\n",
    "'HELLO WORLD'.index('D')"
   ]
  },
  {
   "cell_type": "markdown",
   "metadata": {},
   "source": [
    "<h2>Iterator</h2>\n",
    "<p>the variable which will hold one value or element of iterable at a time while iterating(traversing)</p>\n",
    "<b> example i,j,k any variable</b>\n",
    "<h3>iterable</h3>\n",
    "<p> iterable is the main object which holds multiple element in a sequence so iterator can iterate </p>\n",
    "<b> to acces spcifi element we use box bracets ['']</b>"
   ]
  },
  {
   "cell_type": "code",
   "execution_count": 5,
   "metadata": {},
   "outputs": [
    {
     "name": "stdout",
     "output_type": "stream",
     "text": [
      "hello world"
     ]
    }
   ],
   "source": [
    "for i  in 'hello world':\n",
    "    print(i,end='')"
   ]
  },
  {
   "cell_type": "code",
   "execution_count": 10,
   "metadata": {},
   "outputs": [
    {
     "name": "stdout",
     "output_type": "stream",
     "text": [
      "hihp\n",
      "hirm\n",
      "hisk\n",
      "hipj\n"
     ]
    }
   ],
   "source": [
    "a=['hp','rm','sk','pj']\n",
    "for i in a:\n",
    "    print('hi'+i)"
   ]
  },
  {
   "cell_type": "code",
   "execution_count": 11,
   "metadata": {},
   "outputs": [],
   "source": [
    "i =iter('helloworld')"
   ]
  },
  {
   "cell_type": "code",
   "execution_count": 12,
   "metadata": {},
   "outputs": [
    {
     "data": {
      "text/plain": [
       "'h'"
      ]
     },
     "execution_count": 12,
     "metadata": {},
     "output_type": "execute_result"
    }
   ],
   "source": [
    "next(i)"
   ]
  },
  {
   "cell_type": "code",
   "execution_count": null,
   "metadata": {},
   "outputs": [],
   "source": []
  },
  {
   "cell_type": "code",
   "execution_count": 20,
   "metadata": {},
   "outputs": [
    {
     "name": "stdout",
     "output_type": "stream",
     "text": [
      "hello"
     ]
    }
   ],
   "source": [
    "a='hello world'\n",
    "for i in range(5):\n",
    "    print(a[i],end='')"
   ]
  },
  {
   "cell_type": "code",
   "execution_count": 21,
   "metadata": {},
   "outputs": [
    {
     "data": {
      "text/plain": [
       "'hello'"
      ]
     },
     "execution_count": 21,
     "metadata": {},
     "output_type": "execute_result"
    }
   ],
   "source": [
    "a[0:5]              #sliceing"
   ]
  },
  {
   "cell_type": "code",
   "execution_count": 22,
   "metadata": {},
   "outputs": [
    {
     "name": "stdout",
     "output_type": "stream",
     "text": [
      "hello world\n"
     ]
    }
   ],
   "source": [
    "print(a)"
   ]
  },
  {
   "cell_type": "code",
   "execution_count": 25,
   "metadata": {},
   "outputs": [
    {
     "ename": "SyntaxError",
     "evalue": "invalid syntax (2937810170.py, line 1)",
     "output_type": "error",
     "traceback": [
      "\u001b[1;36m  Cell \u001b[1;32mIn[25], line 1\u001b[1;36m\u001b[0m\n\u001b[1;33m    print(0:5)\u001b[0m\n\u001b[1;37m           ^\u001b[0m\n\u001b[1;31mSyntaxError\u001b[0m\u001b[1;31m:\u001b[0m invalid syntax\n"
     ]
    }
   ],
   "source": [
    "print(0:5)"
   ]
  },
  {
   "cell_type": "code",
   "execution_count": 28,
   "metadata": {},
   "outputs": [
    {
     "name": "stdout",
     "output_type": "stream",
     "text": [
      "awesome"
     ]
    }
   ],
   "source": [
    "b='python is awesome'\n",
    "for s in range(10,17,1):\n",
    "      print(b[s],end='')"
   ]
  },
  {
   "cell_type": "code",
   "execution_count": 34,
   "metadata": {},
   "outputs": [
    {
     "name": "stdout",
     "output_type": "stream",
     "text": [
      "python is some"
     ]
    }
   ],
   "source": [
    "for i,v in enumerate(b):\n",
    "    if i in range(10,13):\n",
    "        continue\n",
    "    else:\n",
    "        print(v,end='')"
   ]
  },
  {
   "cell_type": "code",
   "execution_count": 3,
   "metadata": {},
   "outputs": [
    {
     "name": "stdout",
     "output_type": "stream",
     "text": [
      "1\n",
      "2\n",
      "3\n",
      "4\n"
     ]
    }
   ],
   "source": [
    "for i in range(1,11,1):\n",
    "    if i ==5:\n",
    "        break\n",
    "    print(i)"
   ]
  },
  {
   "cell_type": "code",
   "execution_count": 7,
   "metadata": {},
   "outputs": [],
   "source": [
    "msg=input('enter your first msg:')\n",
    "while msg[-4:-1]!='exit':\n",
    "    break\n",
    "msg = msg + ''+ input((f'ypur last msg was {msg} what next:'))\n",
    "   "
   ]
  },
  {
   "cell_type": "code",
   "execution_count": 8,
   "metadata": {},
   "outputs": [
    {
     "name": "stdout",
     "output_type": "stream",
     "text": [
      "0\n",
      "1\n",
      "2\n",
      "3\n",
      "4\n",
      "5\n",
      "6\n",
      "7\n",
      "8\n",
      "9\n"
     ]
    }
   ],
   "source": [
    "i=0\n",
    "while True:\n",
    "    if i==10:\n",
    "        break\n",
    "    print(i)\n",
    "    i=i+1"
   ]
  },
  {
   "cell_type": "code",
   "execution_count": 10,
   "metadata": {},
   "outputs": [
    {
     "name": "stdout",
     "output_type": "stream",
     "text": [
      "55\n",
      "56\n",
      "57\n",
      "58\n",
      "59\n"
     ]
    }
   ],
   "source": [
    "i=55\n",
    "while True:\n",
    "    if i==60:\n",
    "        break\n",
    "    print(i)\n",
    "    i=i+1"
   ]
  },
  {
   "cell_type": "code",
   "execution_count": 13,
   "metadata": {},
   "outputs": [
    {
     "name": "stdout",
     "output_type": "stream",
     "text": [
      "90\n",
      "89\n",
      "88\n",
      "87\n",
      "86\n"
     ]
    }
   ],
   "source": [
    "i=90\n",
    "while True:\n",
    "    if i==85:\n",
    "     break\n",
    "    print(i)\n",
    "    i=i-1"
   ]
  },
  {
   "cell_type": "code",
   "execution_count": 19,
   "metadata": {},
   "outputs": [
    {
     "name": "stdout",
     "output_type": "stream",
     "text": [
      "35\n",
      "39\n",
      "43\n",
      "47\n",
      "51\n"
     ]
    }
   ],
   "source": [
    "i=35\n",
    "while True:\n",
    "    if i>51:\n",
    "     break\n",
    "    print(i)\n",
    "    i=i+4"
   ]
  },
  {
   "cell_type": "code",
   "execution_count": null,
   "metadata": {},
   "outputs": [],
   "source": []
  },
  {
   "cell_type": "code",
   "execution_count": 22,
   "metadata": {},
   "outputs": [
    {
     "name": "stdout",
     "output_type": "stream",
     "text": [
      "51\n",
      "61\n",
      "71\n",
      "81\n",
      "101\n"
     ]
    }
   ],
   "source": [
    "i=41\n",
    "while True:\n",
    "    \n",
    "    i=i+10\n",
    "    if i>101:\n",
    "        break\n",
    "    elif i==91:\n",
    "        continue\n",
    "    print(i)\n",
    "    "
   ]
  },
  {
   "cell_type": "code",
   "execution_count": 28,
   "metadata": {},
   "outputs": [
    {
     "name": "stdout",
     "output_type": "stream",
     "text": [
      "skip 35\n",
      "42\n",
      "skip 49\n",
      "56\n",
      "skip 63\n",
      "70\n",
      "skip 77\n",
      "84\n"
     ]
    }
   ],
   "source": [
    "i=28\n",
    "while True:\n",
    "    i=i+7\n",
    "    if i>84:\n",
    "        break\n",
    "    elif i%2==1:\n",
    "        print('skip',i)\n",
    "        continue\n",
    "    print(i)"
   ]
  }
 ],
 "metadata": {
  "kernelspec": {
   "display_name": "Python 3",
   "language": "python",
   "name": "python3"
  },
  "language_info": {
   "codemirror_mode": {
    "name": "ipython",
    "version": 3
   },
   "file_extension": ".py",
   "mimetype": "text/x-python",
   "name": "python",
   "nbconvert_exporter": "python",
   "pygments_lexer": "ipython3",
   "version": "3.12.5"
  }
 },
 "nbformat": 4,
 "nbformat_minor": 2
}
